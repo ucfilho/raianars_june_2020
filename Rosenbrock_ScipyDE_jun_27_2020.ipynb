{
  "nbformat": 4,
  "nbformat_minor": 0,
  "metadata": {
    "colab": {
      "name": "Rosembrock_ScipyDE_jun_27_2020.ipynb",
      "provenance": [],
      "collapsed_sections": [],
      "authorship_tag": "ABX9TyPzkdSJsYobtfi9GE/ZYUpv",
      "include_colab_link": true
    },
    "kernelspec": {
      "name": "python3",
      "display_name": "Python 3"
    }
  },
  "cells": [
    {
      "cell_type": "markdown",
      "metadata": {
        "id": "view-in-github",
        "colab_type": "text"
      },
      "source": [
        "<a href=\"https://colab.research.google.com/github/ucfilho/raianars_june_2020/blob/master/Rosenbrock_ScipyDE_jun_27_2020.ipynb\" target=\"_parent\"><img src=\"https://colab.research.google.com/assets/colab-badge.svg\" alt=\"Open In Colab\"/></a>"
      ]
    },
    {
      "cell_type": "code",
      "metadata": {
        "id": "Es8PhSUedYDe",
        "colab_type": "code",
        "colab": {}
      },
      "source": [
        "import numpy as np\n",
        "from scipy.optimize import differential_evolution"
      ],
      "execution_count": 1,
      "outputs": []
    },
    {
      "cell_type": "code",
      "metadata": {
        "id": "FRAi1AGzdeYk",
        "colab_type": "code",
        "colab": {
          "base_uri": "https://localhost:8080/",
          "height": 134
        },
        "outputId": "ae5314d6-ee70-44fd-b2c5-fc3d84dba01a"
      },
      "source": [
        "!git clone https://github.com/ucfilho/Raianars_July_2020 #clonar do Github\n",
        "%cd Raianars_July_2020"
      ],
      "execution_count": 2,
      "outputs": [
        {
          "output_type": "stream",
          "text": [
            "Cloning into 'Raianars_July_2020'...\n",
            "remote: Enumerating objects: 79, done.\u001b[K\n",
            "remote: Counting objects:   1% (1/79)\u001b[K\rremote: Counting objects:   2% (2/79)\u001b[K\rremote: Counting objects:   3% (3/79)\u001b[K\rremote: Counting objects:   5% (4/79)\u001b[K\rremote: Counting objects:   6% (5/79)\u001b[K\rremote: Counting objects:   7% (6/79)\u001b[K\rremote: Counting objects:   8% (7/79)\u001b[K\rremote: Counting objects:  10% (8/79)\u001b[K\rremote: Counting objects:  11% (9/79)\u001b[K\rremote: Counting objects:  12% (10/79)\u001b[K\rremote: Counting objects:  13% (11/79)\u001b[K\rremote: Counting objects:  15% (12/79)\u001b[K\rremote: Counting objects:  16% (13/79)\u001b[K\rremote: Counting objects:  17% (14/79)\u001b[K\rremote: Counting objects:  18% (15/79)\u001b[K\rremote: Counting objects:  20% (16/79)\u001b[K\rremote: Counting objects:  21% (17/79)\u001b[K\rremote: Counting objects:  22% (18/79)\u001b[K\rremote: Counting objects:  24% (19/79)\u001b[K\rremote: Counting objects:  25% (20/79)\u001b[K\rremote: Counting objects:  26% (21/79)\u001b[K\rremote: Counting objects:  27% (22/79)\u001b[K\rremote: Counting objects:  29% (23/79)\u001b[K\rremote: Counting objects:  30% (24/79)\u001b[K\rremote: Counting objects:  31% (25/79)\u001b[K\rremote: Counting objects:  32% (26/79)\u001b[K\rremote: Counting objects:  34% (27/79)\u001b[K\rremote: Counting objects:  35% (28/79)\u001b[K\rremote: Counting objects:  36% (29/79)\u001b[K\rremote: Counting objects:  37% (30/79)\u001b[K\rremote: Counting objects:  39% (31/79)\u001b[K\rremote: Counting objects:  40% (32/79)\u001b[K\rremote: Counting objects:  41% (33/79)\u001b[K\rremote: Counting objects:  43% (34/79)\u001b[K\rremote: Counting objects:  44% (35/79)\u001b[K\rremote: Counting objects:  45% (36/79)\u001b[K\rremote: Counting objects:  46% (37/79)\u001b[K\rremote: Counting objects:  48% (38/79)\u001b[K\rremote: Counting objects:  49% (39/79)\u001b[K\rremote: Counting objects:  50% (40/79)\u001b[K\rremote: Counting objects:  51% (41/79)\u001b[K\rremote: Counting objects:  53% (42/79)\u001b[K\rremote: Counting objects:  54% (43/79)\u001b[K\rremote: Counting objects:  55% (44/79)\u001b[K\rremote: Counting objects:  56% (45/79)\u001b[K\rremote: Counting objects:  58% (46/79)\u001b[K\rremote: Counting objects:  59% (47/79)\u001b[K\rremote: Counting objects:  60% (48/79)\u001b[K\rremote: Counting objects:  62% (49/79)\u001b[K\rremote: Counting objects:  63% (50/79)\u001b[K\rremote: Counting objects:  64% (51/79)\u001b[K\rremote: Counting objects:  65% (52/79)\u001b[K\rremote: Counting objects:  67% (53/79)\u001b[K\rremote: Counting objects:  68% (54/79)\u001b[K\rremote: Counting objects:  69% (55/79)\u001b[K\rremote: Counting objects:  70% (56/79)\u001b[K\rremote: Counting objects:  72% (57/79)\u001b[K\rremote: Counting objects:  73% (58/79)\u001b[K\rremote: Counting objects:  74% (59/79)\u001b[K\rremote: Counting objects:  75% (60/79)\u001b[K\rremote: Counting objects:  77% (61/79)\u001b[K\rremote: Counting objects:  78% (62/79)\u001b[K\rremote: Counting objects:  79% (63/79)\u001b[K\rremote: Counting objects:  81% (64/79)\u001b[K\rremote: Counting objects:  82% (65/79)\u001b[K\rremote: Counting objects:  83% (66/79)\u001b[K\rremote: Counting objects:  84% (67/79)\u001b[K\rremote: Counting objects:  86% (68/79)\u001b[K\rremote: Counting objects:  87% (69/79)\u001b[K\rremote: Counting objects:  88% (70/79)\u001b[K\rremote: Counting objects:  89% (71/79)\u001b[K\rremote: Counting objects:  91% (72/79)\u001b[K\rremote: Counting objects:  92% (73/79)\u001b[K\rremote: Counting objects:  93% (74/79)\u001b[K\rremote: Counting objects:  94% (75/79)\u001b[K\rremote: Counting objects:  96% (76/79)\u001b[K\rremote: Counting objects:  97% (77/79)\u001b[K\rremote: Counting objects:  98% (78/79)\u001b[K\rremote: Counting objects: 100% (79/79)\u001b[K\rremote: Counting objects: 100% (79/79), done.\u001b[K\n",
            "remote: Compressing objects:   1% (1/77)\u001b[K\rremote: Compressing objects:   2% (2/77)\u001b[K\rremote: Compressing objects:   3% (3/77)\u001b[K\rremote: Compressing objects:   5% (4/77)\u001b[K\rremote: Compressing objects:   6% (5/77)\u001b[K\rremote: Compressing objects:   7% (6/77)\u001b[K\rremote: Compressing objects:   9% (7/77)\u001b[K\rremote: Compressing objects:  10% (8/77)\u001b[K\rremote: Compressing objects:  11% (9/77)\u001b[K\rremote: Compressing objects:  12% (10/77)\u001b[K\rremote: Compressing objects:  14% (11/77)\u001b[K\rremote: Compressing objects:  15% (12/77)\u001b[K\rremote: Compressing objects:  16% (13/77)\u001b[K\rremote: Compressing objects:  18% (14/77)\u001b[K\rremote: Compressing objects:  19% (15/77)\u001b[K\rremote: Compressing objects:  20% (16/77)\u001b[K\rremote: Compressing objects:  22% (17/77)\u001b[K\rremote: Compressing objects:  23% (18/77)\u001b[K\rremote: Compressing objects:  24% (19/77)\u001b[K\rremote: Compressing objects:  25% (20/77)\u001b[K\rremote: Compressing objects:  27% (21/77)\u001b[K\rremote: Compressing objects:  28% (22/77)\u001b[K\rremote: Compressing objects:  29% (23/77)\u001b[K\rremote: Compressing objects:  31% (24/77)\u001b[K\rremote: Compressing objects:  32% (25/77)\u001b[K\rremote: Compressing objects:  33% (26/77)\u001b[K\rremote: Compressing objects:  35% (27/77)\u001b[K\rremote: Compressing objects:  36% (28/77)\u001b[K\rremote: Compressing objects:  37% (29/77)\u001b[K\rremote: Compressing objects:  38% (30/77)\u001b[K\rremote: Compressing objects:  40% (31/77)\u001b[K\rremote: Compressing objects:  41% (32/77)\u001b[K\rremote: Compressing objects:  42% (33/77)\u001b[K\rremote: Compressing objects:  44% (34/77)\u001b[K\rremote: Compressing objects:  45% (35/77)\u001b[K\rremote: Compressing objects:  46% (36/77)\u001b[K\rremote: Compressing objects:  48% (37/77)\u001b[K\rremote: Compressing objects:  49% (38/77)\u001b[K\rremote: Compressing objects:  50% (39/77)\u001b[K\rremote: Compressing objects:  51% (40/77)\u001b[K\rremote: Compressing objects:  53% (41/77)\u001b[K\rremote: Compressing objects:  54% (42/77)\u001b[K\rremote: Compressing objects:  55% (43/77)\u001b[K\rremote: Compressing objects:  57% (44/77)\u001b[K\rremote: Compressing objects:  58% (45/77)\u001b[K\rremote: Compressing objects:  59% (46/77)\u001b[K\rremote: Compressing objects:  61% (47/77)\u001b[K\rremote: Compressing objects:  62% (48/77)\u001b[K\rremote: Compressing objects:  63% (49/77)\u001b[K\rremote: Compressing objects:  64% (50/77)\u001b[K\rremote: Compressing objects:  66% (51/77)\u001b[K\rremote: Compressing objects:  67% (52/77)\u001b[K\rremote: Compressing objects:  68% (53/77)\u001b[K\rremote: Compressing objects:  70% (54/77)\u001b[K\rremote: Compressing objects:  71% (55/77)\u001b[K\rremote: Compressing objects:  72% (56/77)\u001b[K\rremote: Compressing objects:  74% (57/77)\u001b[K\rremote: Compressing objects:  75% (58/77)\u001b[K\rremote: Compressing objects:  76% (59/77)\u001b[K\rremote: Compressing objects:  77% (60/77)\u001b[K\rremote: Compressing objects:  79% (61/77)\u001b[K\rremote: Compressing objects:  80% (62/77)\u001b[K\rremote: Compressing objects:  81% (63/77)\u001b[K\rremote: Compressing objects:  83% (64/77)\u001b[K\rremote: Compressing objects:  84% (65/77)\u001b[K\rremote: Compressing objects:  85% (66/77)\u001b[K\rremote: Compressing objects:  87% (67/77)\u001b[K\rremote: Compressing objects:  88% (68/77)\u001b[K\rremote: Compressing objects:  89% (69/77)\u001b[K\rremote: Compressing objects:  90% (70/77)\u001b[K\rremote: Compressing objects:  92% (71/77)\u001b[K\rremote: Compressing objects:  93% (72/77)\u001b[K\rremote: Compressing objects:  94% (73/77)\u001b[K\rremote: Compressing objects:  96% (74/77)\u001b[K\rremote: Compressing objects:  97% (75/77)\u001b[K\rremote: Compressing objects:  98% (76/77)\u001b[K\rremote: Compressing objects: 100% (77/77)\u001b[K\rremote: Compressing objects: 100% (77/77), done.\u001b[K\n",
            "Unpacking objects:   1% (1/79)   \rUnpacking objects:   2% (2/79)   \rUnpacking objects:   3% (3/79)   \rUnpacking objects:   5% (4/79)   \rUnpacking objects:   6% (5/79)   \rUnpacking objects:   7% (6/79)   \rUnpacking objects:   8% (7/79)   \rUnpacking objects:  10% (8/79)   \rUnpacking objects:  11% (9/79)   \rUnpacking objects:  12% (10/79)   \rUnpacking objects:  13% (11/79)   \rUnpacking objects:  15% (12/79)   \rUnpacking objects:  16% (13/79)   \rUnpacking objects:  17% (14/79)   \rUnpacking objects:  18% (15/79)   \rUnpacking objects:  20% (16/79)   \rUnpacking objects:  21% (17/79)   \rUnpacking objects:  22% (18/79)   \rUnpacking objects:  24% (19/79)   \rUnpacking objects:  25% (20/79)   \rUnpacking objects:  26% (21/79)   \rUnpacking objects:  27% (22/79)   \rUnpacking objects:  29% (23/79)   \rUnpacking objects:  30% (24/79)   \rUnpacking objects:  31% (25/79)   \rUnpacking objects:  32% (26/79)   \rUnpacking objects:  34% (27/79)   \rUnpacking objects:  35% (28/79)   \rUnpacking objects:  36% (29/79)   \rUnpacking objects:  37% (30/79)   \rUnpacking objects:  39% (31/79)   \rUnpacking objects:  40% (32/79)   \rUnpacking objects:  41% (33/79)   \rUnpacking objects:  43% (34/79)   \rUnpacking objects:  44% (35/79)   \rUnpacking objects:  45% (36/79)   \rremote: Total 79 (delta 35), reused 0 (delta 0), pack-reused 0\u001b[K\n",
            "Unpacking objects:  46% (37/79)   \rUnpacking objects:  48% (38/79)   \rUnpacking objects:  49% (39/79)   \rUnpacking objects:  50% (40/79)   \rUnpacking objects:  51% (41/79)   \rUnpacking objects:  53% (42/79)   \rUnpacking objects:  54% (43/79)   \rUnpacking objects:  55% (44/79)   \rUnpacking objects:  56% (45/79)   \rUnpacking objects:  58% (46/79)   \rUnpacking objects:  59% (47/79)   \rUnpacking objects:  60% (48/79)   \rUnpacking objects:  62% (49/79)   \rUnpacking objects:  63% (50/79)   \rUnpacking objects:  64% (51/79)   \rUnpacking objects:  65% (52/79)   \rUnpacking objects:  67% (53/79)   \rUnpacking objects:  68% (54/79)   \rUnpacking objects:  69% (55/79)   \rUnpacking objects:  70% (56/79)   \rUnpacking objects:  72% (57/79)   \rUnpacking objects:  73% (58/79)   \rUnpacking objects:  74% (59/79)   \rUnpacking objects:  75% (60/79)   \rUnpacking objects:  77% (61/79)   \rUnpacking objects:  78% (62/79)   \rUnpacking objects:  79% (63/79)   \rUnpacking objects:  81% (64/79)   \rUnpacking objects:  82% (65/79)   \rUnpacking objects:  83% (66/79)   \rUnpacking objects:  84% (67/79)   \rUnpacking objects:  86% (68/79)   \rUnpacking objects:  87% (69/79)   \rUnpacking objects:  88% (70/79)   \rUnpacking objects:  89% (71/79)   \rUnpacking objects:  91% (72/79)   \rUnpacking objects:  92% (73/79)   \rUnpacking objects:  93% (74/79)   \rUnpacking objects:  94% (75/79)   \rUnpacking objects:  96% (76/79)   \rUnpacking objects:  97% (77/79)   \rUnpacking objects:  98% (78/79)   \rUnpacking objects: 100% (79/79)   \rUnpacking objects: 100% (79/79), done.\n",
            "/content/Raianars_July_2020\n"
          ],
          "name": "stdout"
        }
      ]
    },
    {
      "cell_type": "code",
      "metadata": {
        "id": "WPP0AwDbdk4p",
        "colab_type": "code",
        "colab": {}
      },
      "source": [
        "import Function\n",
        "import Go2MinMax"
      ],
      "execution_count": 3,
      "outputs": []
    },
    {
      "cell_type": "code",
      "metadata": {
        "id": "aainD4FVhQhu",
        "colab_type": "code",
        "colab": {}
      },
      "source": [
        "\n",
        "dim=30\n",
        "NPAR=100\n",
        "ITE=500\n",
        "fchoice='Rosenbrock'\n",
        "Fun=Function.Rosenbrock\n",
        "\n",
        "MIN,MAX=Go2MinMax.Intervalo(dim,fchoice)\n",
        "bounds = [(0,0)]*dim\n",
        "\n",
        "for i in range(dim):\n",
        "  bounds[i] = (MIN[i],MAX[i])"
      ],
      "execution_count": 4,
      "outputs": []
    },
    {
      "cell_type": "code",
      "metadata": {
        "id": "4nlypEzsd8z4",
        "colab_type": "code",
        "colab": {}
      },
      "source": [
        "#print(bounds)"
      ],
      "execution_count": 5,
      "outputs": []
    },
    {
      "cell_type": "code",
      "metadata": {
        "id": "9HptqkymeGLG",
        "colab_type": "code",
        "colab": {
          "base_uri": "https://localhost:8080/",
          "height": 101
        },
        "outputId": "09078c71-0618-4ce9-c1a3-3d56181aea92"
      },
      "source": [
        "result = differential_evolution(Fun, bounds, maxiter=ITE, popsize=NPAR)\n",
        "print(result.x, result.fun)"
      ],
      "execution_count": 6,
      "outputs": [
        {
          "output_type": "stream",
          "text": [
            "[-5.96710388  3.60688755  6.99579089  3.969019   -8.34425047  1.80501943\n",
            "  8.63752622 -7.65558122  6.45408703 -8.42536211 -1.01391803  1.45321763\n",
            " -8.96799985  3.09762947  1.24879324  8.70761662 -9.66122948 -8.47465501\n",
            " -5.3191871   2.76246213 -1.51451039 -8.347491   -9.23832125  8.79147409\n",
            "  2.77632365  1.787491   -3.9021736   1.          1.         -6.70069619] 7.967495142732219e-29\n"
          ],
          "name": "stdout"
        }
      ]
    },
    {
      "cell_type": "code",
      "metadata": {
        "id": "s8eOhF9tgGNn",
        "colab_type": "code",
        "colab": {
          "base_uri": "https://localhost:8080/",
          "height": 101
        },
        "outputId": "749bb57a-e745-44c1-faf1-63d3e8e55572"
      },
      "source": [
        "result = differential_evolution(Fun, bounds, maxiter=ITE, popsize=NPAR)\n",
        "print(result.x, result.fun)"
      ],
      "execution_count": 7,
      "outputs": [
        {
          "output_type": "stream",
          "text": [
            "[ 6.8713938  -4.71840992  7.81631967  6.86236153 -8.48070212  1.49279047\n",
            " -7.73322321 -5.8855787  -0.66219039  2.92072328 -4.79734398  5.7610335\n",
            "  2.81697939  3.63149103  9.02728883  3.41224183  1.86245097 -3.07884177\n",
            "  6.03446082 -4.13128606 -4.3657498   6.81917829  3.29281526  7.15767618\n",
            " -4.94040976 -1.54569494  6.88220968  1.          1.          7.06389994] 7.967495142732219e-29\n"
          ],
          "name": "stdout"
        }
      ]
    },
    {
      "cell_type": "code",
      "metadata": {
        "id": "RSVcPxfcgHC_",
        "colab_type": "code",
        "colab": {
          "base_uri": "https://localhost:8080/",
          "height": 101
        },
        "outputId": "58bd35c1-f635-4c3c-f6fe-4ebb1c1751f0"
      },
      "source": [
        "result = differential_evolution(Fun, bounds, maxiter=ITE, popsize=NPAR)\n",
        "print(result.x, result.fun)"
      ],
      "execution_count": 8,
      "outputs": [
        {
          "output_type": "stream",
          "text": [
            "[-1.60813244 -6.12342025  9.60267359 -0.4513344   5.4435707  -9.53427911\n",
            " -6.43505868  6.25008123 -4.65739535  2.53097065  3.49736605 -5.05383909\n",
            "  0.11585163  6.03305395 -8.84492092  4.75169508 -1.31077321 -0.19781035\n",
            "  2.71861015 -2.66110194  4.92094997 -1.8700726   8.93348443 -1.64581221\n",
            "  1.21649806  0.79404245 -9.51463524  1.          1.          0.74557864] 7.967495142732219e-29\n"
          ],
          "name": "stdout"
        }
      ]
    }
  ]
}