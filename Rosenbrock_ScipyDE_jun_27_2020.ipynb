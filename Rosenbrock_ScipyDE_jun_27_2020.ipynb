{
  "nbformat": 4,
  "nbformat_minor": 0,
  "metadata": {
    "colab": {
      "name": "Rosenbrock_ScipyDE_jun_27_2020.ipynb",
      "provenance": [],
      "collapsed_sections": [],
      "authorship_tag": "ABX9TyPzkdSJsYobtfi9GE/ZYUpv",
      "include_colab_link": true
    },
    "kernelspec": {
      "name": "python3",
      "display_name": "Python 3"
    }
  },
  "cells": [
    {
      "cell_type": "markdown",
      "metadata": {
        "id": "view-in-github",
        "colab_type": "text"
      },
      "source": [
        "<a href=\"https://colab.research.google.com/github/ucfilho/raianars_june_2020/blob/master/Rosenbrock_ScipyDE_jun_27_2020.ipynb\" target=\"_parent\"><img src=\"https://colab.research.google.com/assets/colab-badge.svg\" alt=\"Open In Colab\"/></a>"
      ]
    },
    {
      "cell_type": "code",
      "metadata": {
        "id": "Es8PhSUedYDe",
        "colab_type": "code",
        "colab": {}
      },
      "source": [
        "import numpy as np\n",
        "from scipy.optimize import differential_evolution"
      ],
      "execution_count": 1,
      "outputs": []
    },
    {
      "cell_type": "code",
      "metadata": {
        "id": "FRAi1AGzdeYk",
        "colab_type": "code",
        "colab": {
          "base_uri": "https://localhost:8080/",
          "height": 134
        },
        "outputId": "4438da9e-2652-4853-8e1f-86661707ec33"
      },
      "source": [
        "!git clone https://github.com/ucfilho/Raianars_July_2020 #clonar do Github\n",
        "%cd Raianars_July_2020"
      ],
      "execution_count": 2,
      "outputs": [
        {
          "output_type": "stream",
          "text": [
            "Cloning into 'Raianars_July_2020'...\n",
            "remote: Enumerating objects: 85, done.\u001b[K\n",
            "remote: Counting objects: 100% (85/85), done.\u001b[K\n",
            "remote: Compressing objects: 100% (83/83), done.\u001b[K\n",
            "remote: Total 85 (delta 39), reused 0 (delta 0), pack-reused 0\u001b[K\n",
            "Unpacking objects: 100% (85/85), done.\n",
            "/content/Raianars_July_2020\n"
          ],
          "name": "stdout"
        }
      ]
    },
    {
      "cell_type": "code",
      "metadata": {
        "id": "WPP0AwDbdk4p",
        "colab_type": "code",
        "colab": {}
      },
      "source": [
        "import Function\n",
        "import Go2MinMax"
      ],
      "execution_count": 3,
      "outputs": []
    },
    {
      "cell_type": "code",
      "metadata": {
        "id": "aainD4FVhQhu",
        "colab_type": "code",
        "colab": {}
      },
      "source": [
        "\n",
        "dim=30\n",
        "NPAR=100\n",
        "ITE=500\n",
        "fchoice='Rosenbrock'\n",
        "Fun=Function.Rosenbrock\n",
        "\n",
        "MIN,MAX=Go2MinMax.Intervalo(dim,fchoice)\n",
        "bounds = [(0,0)]*dim\n",
        "\n",
        "for i in range(dim):\n",
        "  bounds[i] = (MIN[i],MAX[i])"
      ],
      "execution_count": 4,
      "outputs": []
    },
    {
      "cell_type": "code",
      "metadata": {
        "id": "4nlypEzsd8z4",
        "colab_type": "code",
        "colab": {}
      },
      "source": [
        "#print(bounds)"
      ],
      "execution_count": 5,
      "outputs": []
    },
    {
      "cell_type": "code",
      "metadata": {
        "id": "9HptqkymeGLG",
        "colab_type": "code",
        "colab": {
          "base_uri": "https://localhost:8080/",
          "height": 101
        },
        "outputId": "a8a98532-e80b-4161-a518-161cde9292aa"
      },
      "source": [
        "result = differential_evolution(Fun, bounds, maxiter=ITE, popsize=NPAR)\n",
        "print(result.x, result.fun)"
      ],
      "execution_count": 6,
      "outputs": [
        {
          "output_type": "stream",
          "text": [
            "[0.99999995 0.99999963 1.00000033 1.0000002  1.00000048 1.00000043\n",
            " 1.00000039 0.99999957 1.00000024 0.99999964 0.99999939 1.00000021\n",
            " 0.99999901 0.99999993 0.99999984 1.00000001 1.00000009 0.99999996\n",
            " 0.99999947 0.99999929 0.99999945 0.99999958 1.00000035 0.9999999\n",
            " 1.00000037 0.99999983 0.99999957 0.9999983  0.99999642 0.99999284] 1.895567071361604e-09\n"
          ],
          "name": "stdout"
        }
      ]
    },
    {
      "cell_type": "code",
      "metadata": {
        "id": "s8eOhF9tgGNn",
        "colab_type": "code",
        "colab": {
          "base_uri": "https://localhost:8080/",
          "height": 101
        },
        "outputId": "a5e903a2-170c-46e9-f7f7-17ae6d7dd294"
      },
      "source": [
        "result = differential_evolution(Fun, bounds, maxiter=ITE, popsize=NPAR)\n",
        "print(result.x, result.fun)"
      ],
      "execution_count": 7,
      "outputs": [
        {
          "output_type": "stream",
          "text": [
            "[0.9999999  0.99999984 1.00000001 1.00000004 1.00000032 1.0000002\n",
            " 1.00000039 1.00000011 1.00000008 0.99999988 0.99999982 0.99999977\n",
            " 0.99999992 0.9999998  0.99999985 1.00000009 1.00000021 1.00000019\n",
            " 1.00000046 1.00000018 1.00000001 0.99999984 0.99999977 0.99999971\n",
            " 0.99999959 0.99999909 0.9999979  0.99999575 0.9999912  0.99998238] 3.3254205508739207e-10\n"
          ],
          "name": "stdout"
        }
      ]
    },
    {
      "cell_type": "code",
      "metadata": {
        "id": "RSVcPxfcgHC_",
        "colab_type": "code",
        "colab": {
          "base_uri": "https://localhost:8080/",
          "height": 101
        },
        "outputId": "1a1767e4-4566-4b20-9f87-8227aa8a867b"
      },
      "source": [
        "result = differential_evolution(Fun, bounds, maxiter=ITE, popsize=NPAR)\n",
        "print(result.x, result.fun)"
      ],
      "execution_count": 8,
      "outputs": [
        {
          "output_type": "stream",
          "text": [
            "[1.00000006 1.00000008 1.00000022 1.00000036 1.00000059 1.00000067\n",
            " 1.00000072 1.00000078 1.00000075 1.00000083 1.00000097 1.00000095\n",
            " 1.00000082 1.00000054 1.00000024 1.         0.99999972 0.99999964\n",
            " 0.9999996  0.99999973 0.99999997 1.00000012 1.00000027 1.00000024\n",
            " 1.00000002 0.99999974 0.99999917 0.999998   0.99999569 0.99999124] 8.80290366410521e-10\n"
          ],
          "name": "stdout"
        }
      ]
    }
  ]
}