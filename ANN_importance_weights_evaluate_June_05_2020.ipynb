{
  "nbformat": 4,
  "nbformat_minor": 0,
  "metadata": {
    "colab": {
      "name": "ANN_importance_weights_evaluate_June_05_2020.ipynb",
      "provenance": [],
      "collapsed_sections": [],
      "authorship_tag": "ABX9TyOoYreWmXHryRDrUh1oLYsG",
      "include_colab_link": true
    },
    "kernelspec": {
      "name": "python3",
      "display_name": "Python 3"
    }
  },
  "cells": [
    {
      "cell_type": "markdown",
      "metadata": {
        "id": "view-in-github",
        "colab_type": "text"
      },
      "source": [
        "<a href=\"https://colab.research.google.com/github/ucfilho/raianars_june_2020/blob/master/ANN_importance_weights_evaluate_June_05_2020.ipynb\" target=\"_parent\"><img src=\"https://colab.research.google.com/assets/colab-badge.svg\" alt=\"Open In Colab\"/></a>"
      ]
    },
    {
      "cell_type": "code",
      "metadata": {
        "id": "ECH2Ycz8SGgg",
        "colab_type": "code",
        "colab": {}
      },
      "source": [
        "import time\n",
        "import matplotlib.pyplot as plt\n",
        "import numpy as np\n",
        "from random import randint\n",
        "from scipy import optimize\n",
        "import pandas as pd\n",
        "from sklearn.metrics import confusion_matrix"
      ],
      "execution_count": 0,
      "outputs": []
    },
    {
      "cell_type": "code",
      "metadata": {
        "id": "nEdbH1lBTEQQ",
        "colab_type": "code",
        "colab": {
          "base_uri": "https://localhost:8080/",
          "height": 54
        },
        "outputId": "60ebad5f-7ea2-47a9-9b4c-7f55ec015c30"
      },
      "source": [
        "!git clone https://github.com/ucfilho/optim_raianars_Insight #clonar do Github\n",
        "%cd optim_raianars_Insight"
      ],
      "execution_count": 2,
      "outputs": [
        {
          "output_type": "stream",
          "text": [
            "fatal: destination path 'optim_raianars_Insight' already exists and is not an empty directory.\n",
            "/content/optim_raianars_Insight\n"
          ],
          "name": "stdout"
        }
      ]
    },
    {
      "cell_type": "code",
      "metadata": {
        "id": "Av9pWyiKS7EN",
        "colab_type": "code",
        "colab": {}
      },
      "source": [
        "import Go2Ann"
      ],
      "execution_count": 0,
      "outputs": []
    },
    {
      "cell_type": "code",
      "metadata": {
        "id": "eEzvVcWRSE56",
        "colab_type": "code",
        "colab": {
          "base_uri": "https://localhost:8080/",
          "height": 54
        },
        "outputId": "eba98c8f-2e43-46be-c6f3-0ac37b8d7181"
      },
      "source": [
        "!git clone https://github.com/ucfilho/ANN_read_matrix #clonar do Github\n",
        "%cd ANN_read_matrix"
      ],
      "execution_count": 4,
      "outputs": [
        {
          "output_type": "stream",
          "text": [
            "fatal: destination path 'ANN_read_matrix' already exists and is not an empty directory.\n",
            "/content/optim_raianars_Insight/ANN_read_matrix\n"
          ],
          "name": "stdout"
        }
      ]
    },
    {
      "cell_type": "code",
      "metadata": {
        "id": "qX_6m3fNSLPr",
        "colab_type": "code",
        "colab": {}
      },
      "source": [
        "ANN_F=pd.read_csv('ANN_INSIGHT_Valor_F.csv')\n",
        "ANN_CR=pd.read_csv('ANN_INSIGHT_CR.csv')"
      ],
      "execution_count": 0,
      "outputs": []
    },
    {
      "cell_type": "code",
      "metadata": {
        "id": "4SoVwIMwSWGE",
        "colab_type": "code",
        "colab": {}
      },
      "source": [
        "syn0_F,syn1_F,X_max_F,X_min_F=Go2Ann.GetMatriz(ANN_F)\n",
        "syn0_CR,syn1_CR,X_max_CR,X_min_CR=Go2Ann.GetMatriz(ANN_CR)"
      ],
      "execution_count": 0,
      "outputs": []
    },
    {
      "cell_type": "code",
      "metadata": {
        "id": "rFq1Ts2JSiaX",
        "colab_type": "code",
        "colab": {}
      },
      "source": [
        "#print(syn0_F)\n",
        "#print(syn0_CR)"
      ],
      "execution_count": 0,
      "outputs": []
    },
    {
      "cell_type": "code",
      "metadata": {
        "id": "tW8Kzn9QTTew",
        "colab_type": "code",
        "colab": {}
      },
      "source": [
        "#print(syn1_F)\n",
        "#print(syn1_CR)"
      ],
      "execution_count": 0,
      "outputs": []
    },
    {
      "cell_type": "code",
      "metadata": {
        "id": "Q9yrusm5VTK4",
        "colab_type": "code",
        "colab": {}
      },
      "source": [
        "m=4 # neurons in input layer\n",
        "h=9 # neuros in hidden layer"
      ],
      "execution_count": 0,
      "outputs": []
    },
    {
      "cell_type": "code",
      "metadata": {
        "id": "oKHB8U-3Vcda",
        "colab_type": "code",
        "colab": {
          "base_uri": "https://localhost:8080/",
          "height": 90
        },
        "outputId": "78970424-ac1d-4af7-cd42-f833ceebf99e"
      },
      "source": [
        "IW=np.copy(syn0_CR)\n",
        "LW=np.copy(syn1_CR)\n",
        "\n",
        "Soma=0\n",
        "Var=[]\n",
        "for i in range(m):\n",
        "  Soma_01=0\n",
        "  for j in range(h):\n",
        "    Soma_02=0\n",
        "    for k in range(m):\n",
        "      Soma_02=Soma_02+abs(IW[k,j])\n",
        "    Soma_01=Soma_01+abs(IW[i,j])/Soma_02*abs(LW[j,0])\n",
        "  Var.append(Soma_01)\n",
        "  Soma=Soma+Soma_01\n",
        "\n",
        "for i in range(m):\n",
        "  Var[i]=Var[i]/Soma*100\n",
        "  print(\"Importancia[%d]=%0.2f\"%(i,Var[i]))"
      ],
      "execution_count": 11,
      "outputs": [
        {
          "output_type": "stream",
          "text": [
            "Importancia[0]=23.11\n",
            "Importancia[1]=27.59\n",
            "Importancia[2]=25.67\n",
            "Importancia[3]=23.63\n"
          ],
          "name": "stdout"
        }
      ]
    },
    {
      "cell_type": "code",
      "metadata": {
        "id": "G11-FB-9bLxX",
        "colab_type": "code",
        "colab": {
          "base_uri": "https://localhost:8080/",
          "height": 90
        },
        "outputId": "21be65f6-dd6a-4f61-d5e7-cb7c430d8d6d"
      },
      "source": [
        "IW=np.copy(syn0_F)\n",
        "LW=np.copy(syn1_F)\n",
        "\n",
        "Soma=0\n",
        "Var=[]\n",
        "for i in range(m):\n",
        "  Soma_01=0\n",
        "  for j in range(h):\n",
        "    Soma_02=0\n",
        "    for k in range(m):\n",
        "      Soma_02=Soma_02+abs(IW[k,j])\n",
        "    Soma_01=Soma_01+abs(IW[i,j])/Soma_02*abs(LW[j,0])\n",
        "  Var.append(Soma_01)\n",
        "  Soma=Soma+Soma_01\n",
        "\n",
        "for i in range(m):\n",
        "  Var[i]=Var[i]/Soma*100\n",
        "  print(\"Importancia[%d]=%0.2f\"%(i,Var[i]))"
      ],
      "execution_count": 12,
      "outputs": [
        {
          "output_type": "stream",
          "text": [
            "Importancia[0]=31.84\n",
            "Importancia[1]=22.49\n",
            "Importancia[2]=28.88\n",
            "Importancia[3]=16.78\n"
          ],
          "name": "stdout"
        }
      ]
    }
  ]
}