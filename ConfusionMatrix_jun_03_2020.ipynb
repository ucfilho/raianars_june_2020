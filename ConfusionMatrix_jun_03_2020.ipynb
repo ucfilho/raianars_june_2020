{
  "nbformat": 4,
  "nbformat_minor": 0,
  "metadata": {
    "colab": {
      "name": "ConfusionMatrix_jun_03_2020.ipynb",
      "provenance": [],
      "authorship_tag": "ABX9TyPL4ckFBY54nVYUdYkE5Xqc",
      "include_colab_link": true
    },
    "kernelspec": {
      "name": "python3",
      "display_name": "Python 3"
    }
  },
  "cells": [
    {
      "cell_type": "markdown",
      "metadata": {
        "id": "view-in-github",
        "colab_type": "text"
      },
      "source": [
        "<a href=\"https://colab.research.google.com/github/ucfilho/raianars_june_2020/blob/master/ConfusionMatrix_jun_03_2020.ipynb\" target=\"_parent\"><img src=\"https://colab.research.google.com/assets/colab-badge.svg\" alt=\"Open In Colab\"/></a>"
      ]
    },
    {
      "cell_type": "code",
      "metadata": {
        "id": "v-2f2N0FHAa6",
        "colab_type": "code",
        "colab": {}
      },
      "source": [
        "import numpy as  np\n"
      ],
      "execution_count": 0,
      "outputs": []
    },
    {
      "cell_type": "code",
      "metadata": {
        "id": "O1jxTPpTJPHj",
        "colab_type": "code",
        "colab": {}
      },
      "source": [
        "def Confusion(X):\n",
        "  TP=X[0,0]\n",
        "  FP=X[0,1]\n",
        "  FN=X[1,0]\n",
        "  TN=X[1,1]\n",
        "  A=(TP+TN)/(TP+TN+FP+FN)*100 #Acuracy\n",
        "  P=TP/(TP+FP)*100 # Precision\n",
        "  R=TP/(TP+FN)*100 # Recall\n",
        "  S=TN/(TN+FP)*100 # Specificity\n",
        "  F1=2*TP/(2*TP+FP+FN)*100 # F1 score\n",
        "\n",
        "  return A,P,R,S,F1\n",
        "\n",
        "  "
      ],
      "execution_count": 0,
      "outputs": []
    },
    {
      "cell_type": "code",
      "metadata": {
        "id": "G3l1uC4oI29x",
        "colab_type": "code",
        "colab": {}
      },
      "source": [
        "# F's classification"
      ],
      "execution_count": 0,
      "outputs": []
    },
    {
      "cell_type": "code",
      "metadata": {
        "id": "nwf9t0NSI1Wd",
        "colab_type": "code",
        "outputId": "b5de85ee-bfd6-4422-eed2-fe78b6005407",
        "colab": {
          "base_uri": "https://localhost:8080/",
          "height": 260
        }
      },
      "source": [
        "Train=np.array(([47,7 ],[4,43]))\n",
        "A,P,R,S,F1=Confusion(Train)\n",
        "print(\"F's classification train:\")\n",
        "print(\"Accuracy=%f \\n Precision=%f  \\n  Recall=%f \\n  Specificity=%f  \\n F1 score=%f \\n\"%(A,P,R,S,F1))\n",
        "Test=np.array(([13,3 ],[2,7]))\n",
        "A,P,R,S,F1=Confusion(Test)\n",
        "print(\"F's classification test:\")\n",
        "print(\"Accuracy=%f \\n Precision=%f  \\n  Recall=%f \\n  Specificity=%f  \\n F1 score=%f \\n\"%(A,P,R,S,F1))"
      ],
      "execution_count": 4,
      "outputs": [
        {
          "output_type": "stream",
          "text": [
            "F's classification train:\n",
            "Accuracy=89.108911 \n",
            " Precision=87.037037  \n",
            "  Recall=92.156863 \n",
            "  Specificity=86.000000  \n",
            " F1 score=89.523810 \n",
            "\n",
            "F's classification test:\n",
            "Accuracy=80.000000 \n",
            " Precision=81.250000  \n",
            "  Recall=86.666667 \n",
            "  Specificity=70.000000  \n",
            " F1 score=83.870968 \n",
            "\n"
          ],
          "name": "stdout"
        }
      ]
    },
    {
      "cell_type": "code",
      "metadata": {
        "id": "yVObFRh6NmNp",
        "colab_type": "code",
        "colab": {}
      },
      "source": [
        "# CR's classification"
      ],
      "execution_count": 0,
      "outputs": []
    },
    {
      "cell_type": "code",
      "metadata": {
        "id": "j-kJdR9BLxQe",
        "colab_type": "code",
        "colab": {
          "base_uri": "https://localhost:8080/",
          "height": 260
        },
        "outputId": "514af48e-ecbd-4116-d50c-4b34be178846"
      },
      "source": [
        "Train=np.array(([65,0 ],[9,27]))\n",
        "A,P,R,S,F1=Confusion(Train)\n",
        "print(\"CR's classification train:\")\n",
        "print(\"Accuracy=%f \\n Precision=%f  \\n  Recall=%f \\n  Specificity=%f  \\n F1 score=%f \\n\"%(A,P,R,S,F1))\n",
        "Test=np.array(([18,3 ],[1,3]))\n",
        "A,P,R,S,F1=Confusion(Test)\n",
        "print(\"CR's classification test:\")\n",
        "print(\"Accuracy=%f \\n Precision=%f  \\n  Recall=%f \\n  Specificity=%f  \\n F1 score=%f \\n\"%(A,P,R,S,F1))"
      ],
      "execution_count": 6,
      "outputs": [
        {
          "output_type": "stream",
          "text": [
            "CR's classification train:\n",
            "Accuracy=91.089109 \n",
            " Precision=100.000000  \n",
            "  Recall=87.837838 \n",
            "  Specificity=100.000000  \n",
            " F1 score=93.525180 \n",
            "\n",
            "CR's classification test:\n",
            "Accuracy=84.000000 \n",
            " Precision=85.714286  \n",
            "  Recall=94.736842 \n",
            "  Specificity=50.000000  \n",
            " F1 score=90.000000 \n",
            "\n"
          ],
          "name": "stdout"
        }
      ]
    }
  ]
}