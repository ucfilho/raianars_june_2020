{
  "nbformat": 4,
  "nbformat_minor": 0,
  "metadata": {
    "colab": {
      "name": "ANN_parallel_coordenate_jun_20_2020.ipynb",
      "provenance": [],
      "collapsed_sections": [],
      "authorship_tag": "ABX9TyMLrYHfaa9bC6RhWeEU+sWV",
      "include_colab_link": true
    },
    "kernelspec": {
      "name": "python3",
      "display_name": "Python 3"
    }
  },
  "cells": [
    {
      "cell_type": "markdown",
      "metadata": {
        "id": "view-in-github",
        "colab_type": "text"
      },
      "source": [
        "<a href=\"https://colab.research.google.com/github/ucfilho/raianars_june_2020/blob/master/ANN_parallel_coordenate_jun_20_2020.ipynb\" target=\"_parent\"><img src=\"https://colab.research.google.com/assets/colab-badge.svg\" alt=\"Open In Colab\"/></a>"
      ]
    },
    {
      "cell_type": "code",
      "metadata": {
        "id": "DD5kYGnzUS5o",
        "colab_type": "code",
        "colab": {
          "base_uri": "https://localhost:8080/",
          "height": 50
        },
        "outputId": "5e53bc89-7610-4b6d-cb2e-02614c4808bc"
      },
      "source": [
        "!git clone https://github.com/ucfilho/Raianars_paper_One #clonar do Github\n",
        "%cd Raianars_paper_One"
      ],
      "execution_count": 1,
      "outputs": [
        {
          "output_type": "stream",
          "text": [
            "fatal: destination path 'Raianars_paper_One' already exists and is not an empty directory.\n",
            "/content/Raianars_paper_One\n"
          ],
          "name": "stdout"
        }
      ]
    },
    {
      "cell_type": "code",
      "metadata": {
        "id": "sk31P8IKU5iz",
        "colab_type": "code",
        "colab": {}
      },
      "source": [
        "import Go2Ann\n",
        "import de_soma_Insight\n",
        "import de_bounds_matriz\n",
        "import Function\n",
        "import Go2MinMax\n",
        "from AvaliaX import AvaliaX\n",
        "from GeraIndices import GeraIndices\n",
        "\n",
        "############################### DADOS DE ENTRADA \n",
        "RUNS=10 #NÚMERO DE RODADAS\n",
        "Fc=0.1 # fator de correcao parametros da ANN\n",
        "its=1 #10 # quantas vezes vai usar o NPAR antes de alterar de novo\n",
        "ITE=200 #10 # PONTOS quantas vezes vai alteral NPAR \n",
        "\n",
        "mut=0.5\n",
        "crossp=0.5\n",
        "Fi=mut;CRi=crossp;# para impressão\n",
        "############################### Função\n",
        "\n",
        "dim=10\n",
        "#fchoice='Rastrigin' #fchoice='Michalewicz'\n",
        "fchoice='Schwefel'\n",
        "\n",
        "MIN,MAX=Go2MinMax.Intervalo(dim,fchoice)\n",
        "Fun=Function.Rastrigin\n",
        "PAR=len(MAX) #NUM DE PARAMETROS A SER OTIMIZADOS"
      ],
      "execution_count": 2,
      "outputs": []
    },
    {
      "cell_type": "code",
      "metadata": {
        "id": "eoVzYWygVTHC",
        "colab_type": "code",
        "colab": {}
      },
      "source": [
        "import time\n",
        "import matplotlib.pyplot as plt\n",
        "import numpy as np\n",
        "from random import randint\n",
        "from scipy import optimize\n",
        "import pandas as pd\n",
        "from sklearn.metrics import confusion_matrix"
      ],
      "execution_count": 3,
      "outputs": []
    },
    {
      "cell_type": "code",
      "metadata": {
        "id": "uts6OPH0Vbqo",
        "colab_type": "code",
        "colab": {
          "base_uri": "https://localhost:8080/",
          "height": 50
        },
        "outputId": "3e757f9d-5eab-4778-cb58-7a2c9757c7e2"
      },
      "source": [
        "!git clone https://github.com/ucfilho/ANN_read_matrix #clonar do Github\n",
        "%cd ANN_read_matrix"
      ],
      "execution_count": 4,
      "outputs": [
        {
          "output_type": "stream",
          "text": [
            "fatal: destination path 'ANN_read_matrix' already exists and is not an empty directory.\n",
            "/content/Raianars_paper_One/ANN_read_matrix\n"
          ],
          "name": "stdout"
        }
      ]
    },
    {
      "cell_type": "code",
      "metadata": {
        "id": "VASrSxobVcsh",
        "colab_type": "code",
        "colab": {}
      },
      "source": [
        ""
      ],
      "execution_count": 4,
      "outputs": []
    },
    {
      "cell_type": "code",
      "metadata": {
        "id": "ftd1q9slVh9-",
        "colab_type": "code",
        "colab": {}
      },
      "source": [
        "ANN_F=pd.read_csv('ANN_INSIGHT_Valor_F.csv')\n",
        "ANN_CR=pd.read_csv('ANN_INSIGHT_CR.csv')\n",
        "syn0_F,syn1_F,X_max_F,X_min_F=Go2Ann.GetMatriz(ANN_F)\n",
        "syn0_CR,syn1_CR,X_max_CR,X_min_CR=Go2Ann.GetMatriz(ANN_CR)\n",
        "\n",
        "fields = ['DI RELATIVO','FRAC Its','Fo','CRo','F','CR']\n",
        "Num=2000\n",
        "Parallel_Coord=np.zeros((Num,6)) #\n",
        "Max_DIr=X_max_F[0];Max_Fr=X_max_F[1]\n",
        "Min_DIr=X_min_F[0];Min_Fr=X_min_F[1]\n",
        "Max_F=X_max_F[2];Max_CR=X_max_F[3]\n",
        "Min_F=X_min_F[2];Min_CR=X_min_F[3]"
      ],
      "execution_count": 5,
      "outputs": []
    },
    {
      "cell_type": "code",
      "metadata": {
        "id": "IMNd5I2QVpdk",
        "colab_type": "code",
        "colab": {}
      },
      "source": [
        "for i in range(Num):\n",
        "  DIr=  Min_DIr+(Max_DIr-Min_DIr)*np.random.random();\n",
        "  Frac=Min_Fr+(Max_Fr-Min_Fr)*np.random.random();\n",
        "  Fo=Min_F+(Max_F-Min_F)*np.random.random();\n",
        "  CRo=Min_CR+(Max_CR-Min_CR)*np.random.random();\n",
        "  x_train=np.array([DIr,Frac,Fo,CRo])\n",
        "  x_train=pd.DataFrame(x_train).T\n",
        "  x_train=Go2Ann.Normatiza(x_train,X_max_F,X_min_F)\n",
        "  y_calc_F=Go2Ann.ANN_ycal(syn0_F,syn1_F,x_train)\n",
        "  y_calc_CR=Go2Ann.ANN_ycal(syn0_CR,syn1_CR,x_train)\n",
        "  y_cod_F=Go2Ann.Classifica(y_calc_F)\n",
        "  y_cod_CR=Go2Ann.Classifica(y_calc_CR)\n",
        "  Parallel_Coord[i,0]=DIr;Parallel_Coord[i,1]=Frac;\n",
        "  Parallel_Coord[i,2]=Fo;Parallel_Coord[i,3]=CRo;\n",
        "  Parallel_Coord[i,4]=y_cod_F[0];Parallel_Coord[i,5]=y_cod_CR[0];\n",
        "\n",
        "Parallel_Coord=pd.DataFrame(Parallel_Coord,columns =fields)"
      ],
      "execution_count": 6,
      "outputs": []
    },
    {
      "cell_type": "code",
      "metadata": {
        "id": "pV57LZi-un9t",
        "colab_type": "code",
        "colab": {
          "base_uri": "https://localhost:8080/",
          "height": 252
        },
        "outputId": "305d8922-07db-4a15-b9a5-9f3daa0d3bef"
      },
      "source": [
        "print(Parallel_Coord)"
      ],
      "execution_count": 7,
      "outputs": [
        {
          "output_type": "stream",
          "text": [
            "      DI RELATIVO  FRAC Its        Fo       CRo    F   CR\n",
            "0        0.254096  0.677640  0.213985  0.700329  1.0  1.0\n",
            "1        0.297953  0.471710  0.328250  0.902413 -1.0 -1.0\n",
            "2        0.348576  0.386625  0.004861  0.295973  1.0  1.0\n",
            "3        0.253000  0.960381  0.683287  0.090869  1.0 -1.0\n",
            "4        1.056640  0.888103  0.771952  0.446956 -1.0 -1.0\n",
            "...           ...       ...       ...       ...  ...  ...\n",
            "1995     0.975164  0.663228  0.212549  0.169528 -1.0  1.0\n",
            "1996     1.329981  0.409396  0.928214  0.280402 -1.0 -1.0\n",
            "1997     0.503336  0.661996  0.198845  0.403277  1.0 -1.0\n",
            "1998     1.369607  0.949088  0.715932  0.455934 -1.0 -1.0\n",
            "1999     0.033435  0.875154  0.132944  0.932212  1.0  1.0\n",
            "\n",
            "[2000 rows x 6 columns]\n"
          ],
          "name": "stdout"
        }
      ]
    }
  ]
}