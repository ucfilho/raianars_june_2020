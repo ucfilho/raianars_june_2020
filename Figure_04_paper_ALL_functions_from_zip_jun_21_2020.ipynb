{
  "nbformat": 4,
  "nbformat_minor": 0,
  "metadata": {
    "colab": {
      "name": "Figure_04_paper_ALL_functions_from_zip_jun_21_2020.ipynb",
      "provenance": [],
      "collapsed_sections": [],
      "authorship_tag": "ABX9TyMalNRfz7GyR4F2cUCqXCnS",
      "include_colab_link": true
    },
    "kernelspec": {
      "name": "python3",
      "display_name": "Python 3"
    }
  },
  "cells": [
    {
      "cell_type": "markdown",
      "metadata": {
        "id": "view-in-github",
        "colab_type": "text"
      },
      "source": [
        "<a href=\"https://colab.research.google.com/github/ucfilho/raianars_june_2020/blob/master/Figure_04_paper_ALL_functions_from_zip_jun_21_2020.ipynb\" target=\"_parent\"><img src=\"https://colab.research.google.com/assets/colab-badge.svg\" alt=\"Open In Colab\"/></a>"
      ]
    },
    {
      "cell_type": "code",
      "metadata": {
        "id": "zHDChuyWv5-G",
        "colab_type": "code",
        "colab": {
          "base_uri": "https://localhost:8080/",
          "height": 105
        },
        "outputId": "533041b7-490f-4161-eeac-658b646f5f52"
      },
      "source": [
        "import numpy as np\n",
        "import pandas as pd\n",
        "import matplotlib.pyplot as plt\n",
        "import zipfile\n",
        "from matplotlib import pyplot as PLT\n",
        "plt.style.use('seaborn-whitegrid')\n",
        "from pylab import *\n",
        "\n",
        "# TRAIN DATASET\n",
        "!git clone https://github.com/RaianaSeixas/ANN #clonar do Github\n",
        "%cd ANN\n",
        "#!ls\n",
        "print(\"Hello world\"+\"\\n\"+\"I'm evolving!!!\"+\"\\n\")\n",
        "\n",
        "%matplotlib inline"
      ],
      "execution_count": 1,
      "outputs": [
        {
          "output_type": "stream",
          "text": [
            "fatal: destination path 'ANN' already exists and is not an empty directory.\n",
            "/content/ANN\n",
            "Hello world\n",
            "I'm evolving!!!\n",
            "\n"
          ],
          "name": "stdout"
        }
      ]
    },
    {
      "cell_type": "code",
      "metadata": {
        "id": "y5-CMDEv2FhQ",
        "colab_type": "code",
        "colab": {}
      },
      "source": [
        "Transfere='imput_ANN_D10_30_out_07_19.zip'\n",
        "file_name = zipfile.ZipFile(Transfere, 'r')\n",
        "file_name.extractall()"
      ],
      "execution_count": 2,
      "outputs": []
    },
    {
      "cell_type": "code",
      "metadata": {
        "id": "ZBwwZEie23e1",
        "colab_type": "code",
        "colab": {}
      },
      "source": [
        "labels=[]\n",
        "with zipfile.ZipFile(Transfere, \"r\") as f:\n",
        "  for f in f.namelist():\n",
        "    labels.append(f)"
      ],
      "execution_count": 3,
      "outputs": []
    },
    {
      "cell_type": "code",
      "metadata": {
        "id": "K0xhwNxJ2rGz",
        "colab_type": "code",
        "colab": {}
      },
      "source": [
        "# 2019-10-07_12h50min_DE_Rosenbrock_30.xlsx"
      ],
      "execution_count": 4,
      "outputs": []
    },
    {
      "cell_type": "code",
      "metadata": {
        "id": "DO2WN5Q82_Qs",
        "colab_type": "code",
        "colab": {
          "base_uri": "https://localhost:8080/",
          "height": 265
        },
        "outputId": "a86b1468-8949-4516-d542-2ce867380aa2"
      },
      "source": [
        "i=0\n",
        "for name in labels:\n",
        "  print('i=',i,name)\n",
        "  i=i+1"
      ],
      "execution_count": 5,
      "outputs": [
        {
          "output_type": "stream",
          "text": [
            "i= 0 2019-10-05_02h51min_DE_Rosenbrock_10.csv\n",
            "i= 1 2019-10-05_02h58min_DE_Sphere_10.csv\n",
            "i= 2 2019-10-05_03h13min_DE_Rastrigin_10.csv\n",
            "i= 3 2019-10-05_03h20min_DE_Schwefel_10.csv\n",
            "i= 4 2019-10-05_03h27min_DE_Sum_of_different_powers_10.csv\n",
            "i= 5 2019-10-05_03h36min_DE_Ackley_10.csv\n",
            "i= 6 2019-10-05_03h42min_DE_Michalewicz_10.csv\n",
            "i= 7 2019-10-07_12h50min_DE_Rosenbrock_30.csv\n",
            "i= 8 2019-10-07_13h05min_DE_Sphere_30.csv\n",
            "i= 9 2019-10-07_13h40min_DE_Schwefel_30.csv\n",
            "i= 10 2019-10-07_14h17min_DE_Rastrigin_30.csv\n",
            "i= 11 2019-10-07_14h35min_DE_Sum_of_different_powers_30.csv\n",
            "i= 12 2019-10-07_14h53min_DE_Ackley_30.csv\n",
            "i= 13 2019-10-07_15h14min_DE_Michalewicz_30.csv\n"
          ],
          "name": "stdout"
        }
      ]
    },
    {
      "cell_type": "code",
      "metadata": {
        "id": "gwtdLsSv7zHb",
        "colab_type": "code",
        "colab": {
          "base_uri": "https://localhost:8080/",
          "height": 34
        },
        "outputId": "aeb23fc5-38ba-4d0c-d05f-9b2dda3662b1"
      },
      "source": [
        "file_selected=labels[13] # just to test...\n",
        "print(file_selected)"
      ],
      "execution_count": 6,
      "outputs": [
        {
          "output_type": "stream",
          "text": [
            "2019-10-07_15h14min_DE_Michalewicz_30.csv\n"
          ],
          "name": "stdout"
        }
      ]
    },
    {
      "cell_type": "code",
      "metadata": {
        "id": "j8-MsnSo9q1y",
        "colab_type": "code",
        "colab": {}
      },
      "source": [
        "df=pd.read_csv(file_selected)"
      ],
      "execution_count": 7,
      "outputs": []
    },
    {
      "cell_type": "code",
      "metadata": {
        "id": "cGyaOVow3akQ",
        "colab_type": "code",
        "colab": {}
      },
      "source": [
        "#print(df)"
      ],
      "execution_count": 8,
      "outputs": []
    },
    {
      "cell_type": "code",
      "metadata": {
        "id": "4SVs0itw9_4_",
        "colab_type": "code",
        "colab": {
          "base_uri": "https://localhost:8080/",
          "height": 105
        },
        "outputId": "2a6fbee4-72cf-4245-ee79-a98ee8be88d9"
      },
      "source": [
        "col_names=df.columns\n",
        "print(col_names)"
      ],
      "execution_count": 9,
      "outputs": [
        {
          "output_type": "stream",
          "text": [
            "Index(['Unnamed: 0', 'DIVERSIDADE (DI)', 'DI RELATIVO', 'FRAC Its',\n",
            "       'VELOC FOBJ', 'VELOC X', 'NP', 'Fo', 'CRo', 'fmin', 'fmax', 'AD_fmin',\n",
            "       'AD_fmax', 'DELTA FOBJ', 'DELTA VX', 'r_fitness', 'F', 'CR',\n",
            "       'FUNCTION'],\n",
            "      dtype='object')\n"
          ],
          "name": "stdout"
        }
      ]
    },
    {
      "cell_type": "code",
      "metadata": {
        "id": "fG76gBIH-fgR",
        "colab_type": "code",
        "colab": {}
      },
      "source": [
        "fields=['DI RELATIVO', 'FRAC Its','Fo', 'CRo', 'F', 'CR']"
      ],
      "execution_count": 10,
      "outputs": []
    },
    {
      "cell_type": "code",
      "metadata": {
        "id": "vJwSil-I_KVg",
        "colab_type": "code",
        "colab": {}
      },
      "source": [
        "Y_CR=np.array(df['F'])\n",
        "Y_F=np.array(df['CR'])\n",
        "Num=len(Y_F)\n",
        "X_F=np.zeros(Num)\n",
        "for i in range(Num):\n",
        "  X_F[i]=(i)/Num"
      ],
      "execution_count": 11,
      "outputs": []
    },
    {
      "cell_type": "code",
      "metadata": {
        "id": "keaPfpxuEFOH",
        "colab_type": "code",
        "colab": {
          "base_uri": "https://localhost:8080/",
          "height": 307
        },
        "outputId": "15075900-785c-4d43-e53d-b8e719f193ca"
      },
      "source": [
        "fig = PLT.figure()\n",
        "ax1 = fig.add_subplot(111)\n",
        "ax1.set_xlim(0, 1)\n",
        "ax1.set_ylim(0, 1)\n",
        "plt.setp(ax1.spines.values(), linewidth=2.0)\n",
        "plt.plot(X_F, Y_F, 'ko--', X_F, Y_CR, 'k^-', linewidth=2, markersize=12)\n",
        "ax1.grid(False)\n",
        "# Change size and font of tick labels\n",
        "# Again, this doesn't work in interactive mode.\n",
        "fontsize = 14\n",
        "ax = gca()\n",
        "\n",
        "for tick in ax.xaxis.get_major_ticks():\n",
        "    tick.label1.set_fontsize(fontsize)\n",
        "    tick.label1.set_fontweight('bold')\n",
        "for tick in ax.yaxis.get_major_ticks():\n",
        "    tick.label1.set_fontsize(fontsize)\n",
        "    tick.label1.set_fontweight('bold')\n",
        "\n",
        "xlabel('Fraction intearations', fontsize=16, fontweight='bold')\n",
        "ylabel('F and CR', fontsize=16, fontweight='bold')\n",
        "#ax.legend( ('F', 'CR'), loc='upper right')\n",
        "ax.legend( ('F', 'CR'), loc=[0.8,0.1])"
      ],
      "execution_count": 15,
      "outputs": [
        {
          "output_type": "execute_result",
          "data": {
            "text/plain": [
              "<matplotlib.legend.Legend at 0x7fa3f0c72668>"
            ]
          },
          "metadata": {
            "tags": []
          },
          "execution_count": 15
        },
        {
          "output_type": "display_data",
          "data": {
            "image/png": "[encoded data removed]",
            "text/plain": [
              "<Figure size 432x288 with 1 Axes>"
            ]
          },
          "metadata": {
            "tags": [],
            "needs_background": "light"
          }
        }
      ]
    }
  ]
}