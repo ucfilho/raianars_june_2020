{
  "nbformat": 4,
  "nbformat_minor": 0,
  "metadata": {
    "colab": {
      "name": "ANN_PCA_jun_20_2020.ipynb",
      "provenance": [],
      "collapsed_sections": [],
      "authorship_tag": "ABX9TyONsHLzSLKpz4BSCwivNN/7",
      "include_colab_link": true
    },
    "kernelspec": {
      "name": "python3",
      "display_name": "Python 3"
    }
  },
  "cells": [
    {
      "cell_type": "markdown",
      "metadata": {
        "id": "view-in-github",
        "colab_type": "text"
      },
      "source": [
        "<a href=\"https://colab.research.google.com/github/ucfilho/raianars_june_2020/blob/master/ANN_PCA_jun_20_2020.ipynb\" target=\"_parent\"><img src=\"https://colab.research.google.com/assets/colab-badge.svg\" alt=\"Open In Colab\"/></a>"
      ]
    },
    {
      "cell_type": "code",
      "metadata": {
        "id": "DD5kYGnzUS5o",
        "colab_type": "code",
        "colab": {
          "base_uri": "https://localhost:8080/",
          "height": 50
        },
        "outputId": "9e53f6a8-c473-4954-9817-34c500a24300"
      },
      "source": [
        "!git clone https://github.com/ucfilho/Raianars_paper_One #clonar do Github\n",
        "%cd Raianars_paper_One"
      ],
      "execution_count": 1,
      "outputs": [
        {
          "output_type": "stream",
          "text": [
            "fatal: destination path 'Raianars_paper_One' already exists and is not an empty directory.\n",
            "/content/Raianars_paper_One\n"
          ],
          "name": "stdout"
        }
      ]
    },
    {
      "cell_type": "code",
      "metadata": {
        "id": "sk31P8IKU5iz",
        "colab_type": "code",
        "colab": {}
      },
      "source": [
        "import Go2Ann\n",
        "import de_soma_Insight\n",
        "import de_bounds_matriz\n",
        "import Function\n",
        "import Go2MinMax\n",
        "from AvaliaX import AvaliaX\n",
        "from GeraIndices import GeraIndices\n",
        "\n",
        "############################### DADOS DE ENTRADA \n",
        "RUNS=10 #NÚMERO DE RODADAS\n",
        "Fc=0.1 # fator de correcao parametros da ANN\n",
        "its=1 #10 # quantas vezes vai usar o NPAR antes de alterar de novo\n",
        "ITE=200 #10 # PONTOS quantas vezes vai alteral NPAR \n",
        "\n",
        "mut=0.5\n",
        "crossp=0.5\n",
        "Fi=mut;CRi=crossp;# para impressão\n",
        "############################### Função\n",
        "\n",
        "dim=10\n",
        "#fchoice='Rastrigin' #fchoice='Michalewicz'\n",
        "fchoice='Schwefel'\n",
        "\n",
        "MIN,MAX=Go2MinMax.Intervalo(dim,fchoice)\n",
        "Fun=Function.Rastrigin\n",
        "PAR=len(MAX) #NUM DE PARAMETROS A SER OTIMIZADOS"
      ],
      "execution_count": 2,
      "outputs": []
    },
    {
      "cell_type": "code",
      "metadata": {
        "id": "eoVzYWygVTHC",
        "colab_type": "code",
        "colab": {}
      },
      "source": [
        "import time\n",
        "import matplotlib.pyplot as plt\n",
        "import numpy as np\n",
        "from random import randint\n",
        "from scipy import optimize\n",
        "import pandas as pd\n",
        "from sklearn.metrics import confusion_matrix\n",
        "from sklearn.preprocessing import StandardScaler\n",
        "from sklearn.decomposition import PCA"
      ],
      "execution_count": 3,
      "outputs": []
    },
    {
      "cell_type": "code",
      "metadata": {
        "id": "uts6OPH0Vbqo",
        "colab_type": "code",
        "colab": {
          "base_uri": "https://localhost:8080/",
          "height": 50
        },
        "outputId": "d4a4362d-7000-44d5-e25f-236a175a6bfc"
      },
      "source": [
        "!git clone https://github.com/ucfilho/ANN_read_matrix #clonar do Github\n",
        "%cd ANN_read_matrix"
      ],
      "execution_count": 4,
      "outputs": [
        {
          "output_type": "stream",
          "text": [
            "fatal: destination path 'ANN_read_matrix' already exists and is not an empty directory.\n",
            "/content/Raianars_paper_One/ANN_read_matrix\n"
          ],
          "name": "stdout"
        }
      ]
    },
    {
      "cell_type": "code",
      "metadata": {
        "id": "VASrSxobVcsh",
        "colab_type": "code",
        "colab": {}
      },
      "source": [
        ""
      ],
      "execution_count": 4,
      "outputs": []
    },
    {
      "cell_type": "code",
      "metadata": {
        "id": "ftd1q9slVh9-",
        "colab_type": "code",
        "colab": {}
      },
      "source": [
        "ANN_F=pd.read_csv('ANN_INSIGHT_Valor_F.csv')\n",
        "ANN_CR=pd.read_csv('ANN_INSIGHT_CR.csv')\n",
        "syn0_F,syn1_F,X_max_F,X_min_F=Go2Ann.GetMatriz(ANN_F)\n",
        "syn0_CR,syn1_CR,X_max_CR,X_min_CR=Go2Ann.GetMatriz(ANN_CR)\n",
        "\n",
        "fields = ['DIr','FRAC Its','Fo','CRo','F','CR']\n",
        "fields = ['DIr','FRAC Its','Fo','CRo','F','CR']\n",
        "Num=2000\n",
        "Parallel_Coord=np.zeros((Num,6)) #\n",
        "Max_DIr=X_max_F[0];Max_Fr=X_max_F[1]\n",
        "Min_DIr=X_min_F[0];Min_Fr=X_min_F[1];Min_Fr=0\n",
        "Max_F=X_max_F[2];Max_CR=X_max_F[3]\n",
        "Min_F=X_min_F[2];Min_CR=X_min_F[3]"
      ],
      "execution_count": 5,
      "outputs": []
    },
    {
      "cell_type": "code",
      "metadata": {
        "id": "IMNd5I2QVpdk",
        "colab_type": "code",
        "colab": {}
      },
      "source": [
        "\n",
        "for i in range(Num):\n",
        "  DIr=  Min_DIr+(Max_DIr-Min_DIr)*np.random.random();\n",
        "  Frac=Min_Fr+(Max_Fr-Min_Fr)*np.random.random();\n",
        "  Fo=Min_F+(Max_F-Min_F)*np.random.random();\n",
        "  CRo=Min_CR+(Max_CR-Min_CR)*np.random.random();\n",
        "  x_train=np.array([DIr,Frac,Fo,CRo])\n",
        "  x_train=pd.DataFrame(x_train).T\n",
        "  x_train=Go2Ann.Normatiza(x_train,X_max_F,X_min_F)\n",
        "  y_calc_F=Go2Ann.ANN_ycal(syn0_F,syn1_F,x_train)\n",
        "  y_calc_CR=Go2Ann.ANN_ycal(syn0_CR,syn1_CR,x_train)\n",
        "  y_cod_F=Go2Ann.Classifica(y_calc_F)\n",
        "  y_cod_CR=Go2Ann.Classifica(y_calc_CR)\n",
        "  Parallel_Coord[i,0]=DIr;Parallel_Coord[i,1]=Frac;\n",
        "  Parallel_Coord[i,2]=Fo;Parallel_Coord[i,3]=CRo;\n",
        "  Parallel_Coord[i,4]=y_cod_F[0];Parallel_Coord[i,5]=y_cod_CR[0];\n",
        "  \n",
        "Parallel_Coord=pd.DataFrame(Parallel_Coord,columns =fields)\n",
        "\n"
      ],
      "execution_count": 6,
      "outputs": []
    },
    {
      "cell_type": "code",
      "metadata": {
        "id": "pV57LZi-un9t",
        "colab_type": "code",
        "colab": {
          "base_uri": "https://localhost:8080/",
          "height": 252
        },
        "outputId": "423574a7-ff58-4b90-83cd-2c3e3d2a22b1"
      },
      "source": [
        "print(Parallel_Coord)"
      ],
      "execution_count": 7,
      "outputs": [
        {
          "output_type": "stream",
          "text": [
            "           DIr  FRAC Its        Fo       CRo    F   CR\n",
            "0     0.279625  0.375097  0.131515  0.320361  1.0 -1.0\n",
            "1     0.908125  0.816828  0.740894  0.203860 -1.0 -1.0\n",
            "2     0.425423  0.648801  0.641960  0.258684  1.0 -1.0\n",
            "3     0.385707  0.464593  0.259805  0.409584  1.0 -1.0\n",
            "4     0.310585  0.329281  0.560738  0.772058 -1.0  1.0\n",
            "...        ...       ...       ...       ...  ...  ...\n",
            "1995  0.382173  0.944568  0.813457  0.140744 -1.0 -1.0\n",
            "1996  0.514495  0.876194  0.980436  0.456272 -1.0  1.0\n",
            "1997  0.851473  0.437081  0.832138  0.549667 -1.0  1.0\n",
            "1998  0.754916  0.885139  0.992456  0.538201 -1.0  1.0\n",
            "1999  0.346851  0.249973  0.044147  0.146938  1.0 -1.0\n",
            "\n",
            "[2000 rows x 6 columns]\n"
          ],
          "name": "stdout"
        }
      ]
    },
    {
      "cell_type": "code",
      "metadata": {
        "id": "ox1yYxk6dzUk",
        "colab_type": "code",
        "colab": {}
      },
      "source": [
        "X=np.array(Parallel_Coord[['DIr','FRAC Its','Fo','CRo']])\n",
        "y=np.array(Parallel_Coord[['F']])"
      ],
      "execution_count": 8,
      "outputs": []
    },
    {
      "cell_type": "code",
      "metadata": {
        "id": "PC6hR4nse1hd",
        "colab_type": "code",
        "colab": {
          "base_uri": "https://localhost:8080/",
          "height": 283
        },
        "outputId": "b0238855-e301-4f7b-e3fc-49f92e48b431"
      },
      "source": [
        "#In general it is a good idea to scale the data\n",
        "scaler = StandardScaler()\n",
        "scaler.fit(X)\n",
        "X=scaler.transform(X)\n",
        "\n",
        "pca = PCA()\n",
        "pca.fit(X,y)\n",
        "x_new = pca.transform(X)   \n",
        "\n",
        "\n",
        "#Call the function. \n",
        "Name=['DIr','FRAC Its','Fo','CRo']\n",
        "Num=4\n",
        "coeff=pca. components_\n",
        "for i in range(Num):\n",
        "  plt.arrow(0, 0, coeff[i,0], coeff[i,1],color = 'k',alpha = 1.0)\n",
        "  plt.text(coeff[i,0]* 1.15, coeff[i,1] * 1.15, Name[i], color = 'k', ha = 'center', va = 'center')\n",
        "\n",
        "plt.ylim(-1, 1)     # set the ylim to bottom, top\n",
        "plt.xlim(-1, 1)     # set the ylim to bottom, top\n",
        "plt.xlabel(\"PC{}\".format(1))\n",
        "plt.ylabel(\"PC{}\".format(2))\n",
        "plt.grid()\n",
        "\n",
        "plt.show()"
      ],
      "execution_count": 19,
      "outputs": [
        {
          "output_type": "display_data",
          "data": {
            "image/png": "[encoded data removed]",
            "text/plain": [
              "<Figure size 432x288 with 1 Axes>"
            ]
          },
          "metadata": {
            "tags": [],
            "needs_background": "light"
          }
        }
      ]
    },
    {
      "cell_type": "code",
      "metadata": {
        "id": "mpOHRIDOsUxx",
        "colab_type": "code",
        "colab": {
          "base_uri": "https://localhost:8080/",
          "height": 101
        },
        "outputId": "73df6b66-db68-4466-e0b0-ee9f739658d7"
      },
      "source": [
        "print(coeff)\n",
        "print(Name)"
      ],
      "execution_count": 15,
      "outputs": [
        {
          "output_type": "stream",
          "text": [
            "[[ 0.00597779 -0.71575362 -0.48153979 -0.50574742]\n",
            " [ 0.69397515 -0.05178077 -0.4776399   0.5362624 ]\n",
            " [-0.69401789  0.13087576 -0.59918379  0.37708021]\n",
            " [ 0.19157743  0.68402269 -0.42539199 -0.56076082]]\n",
            "['DIr', 'FRAC Its', 'Fo']\n"
          ],
          "name": "stdout"
        }
      ]
    },
    {
      "cell_type": "code",
      "metadata": {
        "id": "tFj6-y7yh_UE",
        "colab_type": "code",
        "colab": {}
      },
      "source": [
        "!pip install pca"
      ],
      "execution_count": null,
      "outputs": []
    },
    {
      "cell_type": "code",
      "metadata": {
        "id": "QRfttFHhhwH9",
        "colab_type": "code",
        "colab": {}
      },
      "source": [
        "from pca import pca"
      ],
      "execution_count": null,
      "outputs": []
    },
    {
      "cell_type": "code",
      "metadata": {
        "id": "SFckCLcQhn6B",
        "colab_type": "code",
        "colab": {}
      },
      "source": [
        "X=Parallel_Coord[['DIr','FRAC Its','Fo','CRo']]\n",
        "y=Parallel_Coord[['F']]"
      ],
      "execution_count": null,
      "outputs": []
    },
    {
      "cell_type": "code",
      "metadata": {
        "id": "RejelTpphOXh",
        "colab_type": "code",
        "colab": {}
      },
      "source": [
        "# Initialize to reduce the data up to the number of componentes that explains 95% of the variance.\n",
        "model = pca(n_components=0.95)\n",
        "\n",
        "# Or reduce the data towards 2 PCs\n",
        "model = pca(n_components=2)\n",
        "\n",
        "# Fit transform\n",
        "results = model.fit_transform(X)\n",
        "\n",
        "# Plot explained variance\n",
        "fig, ax = model.plot()"
      ],
      "execution_count": null,
      "outputs": []
    },
    {
      "cell_type": "code",
      "metadata": {
        "id": "UxXtALSAg0zH",
        "colab_type": "code",
        "colab": {}
      },
      "source": [
        "# Scatter first 2 PCs\n",
        "fig, ax = model.scatter()\n",
        "\n"
      ],
      "execution_count": null,
      "outputs": []
    },
    {
      "cell_type": "code",
      "metadata": {
        "id": "OZKZn_gyijnl",
        "colab_type": "code",
        "colab": {}
      },
      "source": [
        "# Make biplot with the number of features\n",
        "fig, ax = model.biplot(n_feat=4)"
      ],
      "execution_count": null,
      "outputs": []
    },
    {
      "cell_type": "code",
      "metadata": {
        "id": "jpEJhWC6jR7g",
        "colab_type": "code",
        "colab": {}
      },
      "source": [
        "model = pca(n_components=3)\n",
        "results = model.fit_transform(X)\n",
        "fig, ax= model.scatter3d()\n"
      ],
      "execution_count": null,
      "outputs": []
    },
    {
      "cell_type": "code",
      "metadata": {
        "id": "7Y49doWVj-LR",
        "colab_type": "code",
        "colab": {}
      },
      "source": [
        "fig, ax = model.biplot3d(n_feat=4)"
      ],
      "execution_count": null,
      "outputs": []
    },
    {
      "cell_type": "code",
      "metadata": {
        "id": "10iEVc7pl2Oh",
        "colab_type": "code",
        "colab": {}
      },
      "source": [
        "fig = plt.figure()"
      ],
      "execution_count": null,
      "outputs": []
    }
  ]
}