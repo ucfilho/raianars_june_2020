{
  "nbformat": 4,
  "nbformat_minor": 0,
  "metadata": {
    "colab": {
      "name": "ANN_PCA_jun_20_2020.ipynb",
      "provenance": [],
      "collapsed_sections": [],
      "authorship_tag": "ABX9TyN4e2CuYSXQ360N4sGU4V+H",
      "include_colab_link": true
    },
    "kernelspec": {
      "name": "python3",
      "display_name": "Python 3"
    }
  },
  "cells": [
    {
      "cell_type": "markdown",
      "metadata": {
        "id": "view-in-github",
        "colab_type": "text"
      },
      "source": [
        "<a href=\"https://colab.research.google.com/github/ucfilho/raianars_june_2020/blob/master/ANN_PCA_jun_20_2020.ipynb\" target=\"_parent\"><img src=\"https://colab.research.google.com/assets/colab-badge.svg\" alt=\"Open In Colab\"/></a>"
      ]
    },
    {
      "cell_type": "code",
      "metadata": {
        "id": "DD5kYGnzUS5o",
        "colab_type": "code",
        "colab": {
          "base_uri": "https://localhost:8080/",
          "height": 51
        },
        "outputId": "566f0a37-8cc2-417b-eb43-4c69c74f0751"
      },
      "source": [
        "!git clone https://github.com/ucfilho/Raianars_paper_One #clonar do Github\n",
        "%cd Raianars_paper_One"
      ],
      "execution_count": null,
      "outputs": [
        {
          "output_type": "stream",
          "text": [
            "fatal: destination path 'Raianars_paper_One' already exists and is not an empty directory.\n",
            "/content/Raianars_paper_One\n"
          ],
          "name": "stdout"
        }
      ]
    },
    {
      "cell_type": "code",
      "metadata": {
        "id": "sk31P8IKU5iz",
        "colab_type": "code",
        "colab": {}
      },
      "source": [
        "import Go2Ann\n",
        "import de_soma_Insight\n",
        "import de_bounds_matriz\n",
        "import Function\n",
        "import Go2MinMax\n",
        "from AvaliaX import AvaliaX\n",
        "from GeraIndices import GeraIndices\n",
        "\n",
        "############################### DADOS DE ENTRADA \n",
        "RUNS=10 #NÚMERO DE RODADAS\n",
        "Fc=0.1 # fator de correcao parametros da ANN\n",
        "its=1 #10 # quantas vezes vai usar o NPAR antes de alterar de novo\n",
        "ITE=200 #10 # PONTOS quantas vezes vai alteral NPAR \n",
        "\n",
        "mut=0.5\n",
        "crossp=0.5\n",
        "Fi=mut;CRi=crossp;# para impressão\n",
        "############################### Função\n",
        "\n",
        "dim=10\n",
        "#fchoice='Rastrigin' #fchoice='Michalewicz'\n",
        "fchoice='Schwefel'\n",
        "\n",
        "MIN,MAX=Go2MinMax.Intervalo(dim,fchoice)\n",
        "Fun=Function.Rastrigin\n",
        "PAR=len(MAX) #NUM DE PARAMETROS A SER OTIMIZADOS"
      ],
      "execution_count": null,
      "outputs": []
    },
    {
      "cell_type": "code",
      "metadata": {
        "id": "eoVzYWygVTHC",
        "colab_type": "code",
        "colab": {}
      },
      "source": [
        "import time\n",
        "import matplotlib.pyplot as plt\n",
        "import numpy as np\n",
        "from random import randint\n",
        "from scipy import optimize\n",
        "import pandas as pd\n",
        "from sklearn.metrics import confusion_matrix\n",
        "from sklearn.preprocessing import StandardScaler\n",
        "from sklearn.decomposition import PCA\n",
        "import random"
      ],
      "execution_count": null,
      "outputs": []
    },
    {
      "cell_type": "code",
      "metadata": {
        "id": "uts6OPH0Vbqo",
        "colab_type": "code",
        "colab": {
          "base_uri": "https://localhost:8080/",
          "height": 51
        },
        "outputId": "34bf6c52-3d4f-4175-d98e-a2769868fd2d"
      },
      "source": [
        "!git clone https://github.com/ucfilho/ANN_read_matrix #clonar do Github\n",
        "%cd ANN_read_matrix"
      ],
      "execution_count": null,
      "outputs": [
        {
          "output_type": "stream",
          "text": [
            "fatal: destination path 'ANN_read_matrix' already exists and is not an empty directory.\n",
            "/content/Raianars_paper_One/ANN_read_matrix\n"
          ],
          "name": "stdout"
        }
      ]
    },
    {
      "cell_type": "code",
      "metadata": {
        "id": "VASrSxobVcsh",
        "colab_type": "code",
        "colab": {}
      },
      "source": [
        ""
      ],
      "execution_count": null,
      "outputs": []
    },
    {
      "cell_type": "code",
      "metadata": {
        "id": "ftd1q9slVh9-",
        "colab_type": "code",
        "colab": {}
      },
      "source": [
        "ANN_F=pd.read_csv('ANN_INSIGHT_Valor_F.csv')\n",
        "ANN_CR=pd.read_csv('ANN_INSIGHT_CR.csv')\n",
        "syn0_F,syn1_F,X_max_F,X_min_F=Go2Ann.GetMatriz(ANN_F)\n",
        "syn0_CR,syn1_CR,X_max_CR,X_min_CR=Go2Ann.GetMatriz(ANN_CR)\n",
        "\n",
        "fields = ['DIr','FRAC Its','Fo','CRo','F','CR']\n",
        "fields = ['DIr','FRAC Its','Fo','CRo','F','CR']\n",
        "Num=5000\n",
        "Parallel_Coord=np.zeros((Num,6)) #\n",
        "Max_DIr=X_max_F[0];Max_Fr=X_max_F[1]\n",
        "Min_DIr=X_min_F[0];Min_Fr=X_min_F[1];Min_Fr=0\n",
        "Max_F=X_max_F[2];Max_CR=X_max_F[3]\n",
        "Min_F=X_min_F[2];Min_CR=X_min_F[3]"
      ],
      "execution_count": null,
      "outputs": []
    },
    {
      "cell_type": "code",
      "metadata": {
        "id": "IMNd5I2QVpdk",
        "colab_type": "code",
        "colab": {}
      },
      "source": [
        "\n",
        "for i in range(Num):\n",
        "  # random.seed(np.log(i+1))\n",
        "  DIr=  Min_DIr+(Max_DIr-Min_DIr)*np.random.random();\n",
        "  # random.seed(2*np.log(i+1))\n",
        "  Frac=Min_Fr+(Max_Fr-Min_Fr)*np.random.random();\n",
        "  # random.seed(3*np.log(i+1))\n",
        "  Fo=Min_F+(Max_F-Min_F)*np.random.random();\n",
        "  # random.seed(4*np.log(i+1))\n",
        "  CRo=Min_CR+(Max_CR-Min_CR)*np.random.random();\n",
        "  x_train=np.array([DIr,Frac,Fo,CRo])\n",
        "  x_train=pd.DataFrame(x_train).T\n",
        "  x_train=Go2Ann.Normatiza(x_train,X_max_F,X_min_F)\n",
        "  y_calc_F=Go2Ann.ANN_ycal(syn0_F,syn1_F,x_train)\n",
        "  y_calc_CR=Go2Ann.ANN_ycal(syn0_CR,syn1_CR,x_train)\n",
        "  y_cod_F=Go2Ann.Classifica(y_calc_F)\n",
        "  y_cod_CR=Go2Ann.Classifica(y_calc_CR)\n",
        "  Parallel_Coord[i,0]=DIr;Parallel_Coord[i,1]=Frac;\n",
        "  Parallel_Coord[i,2]=Fo;Parallel_Coord[i,3]=CRo;\n",
        "  Parallel_Coord[i,4]=y_cod_F[0];Parallel_Coord[i,5]=y_cod_CR[0];\n",
        "  \n",
        "Parallel_Coord=pd.DataFrame(Parallel_Coord,columns =fields)\n",
        "\n"
      ],
      "execution_count": null,
      "outputs": []
    },
    {
      "cell_type": "code",
      "metadata": {
        "id": "pV57LZi-un9t",
        "colab_type": "code",
        "colab": {
          "base_uri": "https://localhost:8080/",
          "height": 255
        },
        "outputId": "cc578b54-9f0d-446b-81ff-bbf169afa2ad"
      },
      "source": [
        "print(Parallel_Coord)"
      ],
      "execution_count": null,
      "outputs": [
        {
          "output_type": "stream",
          "text": [
            "           DIr  FRAC Its        Fo       CRo    F   CR\n",
            "0     0.275176  0.178708  0.854895  0.484575 -1.0 -1.0\n",
            "1     0.373192  0.920961  0.987497  0.849394 -1.0  1.0\n",
            "2     1.352780  0.578868  0.743613  0.568535 -1.0  1.0\n",
            "3     1.106131  0.553456  0.403866  0.329969  1.0 -1.0\n",
            "4     1.355424  0.952691  0.390077  0.196210  1.0 -1.0\n",
            "...        ...       ...       ...       ...  ...  ...\n",
            "4995  0.965118  0.309760  0.762871  0.094886 -1.0 -1.0\n",
            "4996  0.126361  0.026432  0.881467  0.697817 -1.0 -1.0\n",
            "4997  0.090014  0.563659  0.619371  0.139987 -1.0 -1.0\n",
            "4998  0.262985  0.339877  0.081871  0.864093  1.0 -1.0\n",
            "4999  0.494873  0.438876  0.382810  0.301949  1.0 -1.0\n",
            "\n",
            "[5000 rows x 6 columns]\n"
          ],
          "name": "stdout"
        }
      ]
    },
    {
      "cell_type": "code",
      "metadata": {
        "id": "PC6hR4nse1hd",
        "colab_type": "code",
        "colab": {
          "base_uri": "https://localhost:8080/",
          "height": 51
        },
        "outputId": "900445f5-b6c6-4f90-e927-ab1fb295cd52"
      },
      "source": [
        "#In general it is a good idea to scale the data\n",
        "\n",
        "X=np.array(Parallel_Coord[['DIr','FRAC Its','Fo','CRo']])\n",
        "y=np.array(Parallel_Coord[['F']])\n",
        "#y=np.array(Parallel_Coord[['CR']])\n",
        "\n",
        "scaler = StandardScaler()\n",
        "scaler.fit(X)\n",
        "X=scaler.transform(X)\n",
        "\n",
        "pca = PCA()\n",
        "pca.fit(X,y)\n",
        "x_new = pca.transform(X)   \n",
        "\n",
        "\n",
        "#Call the function. \n",
        "Name=['DIr','FRAC','Fo','CRo']\n",
        "Num=4\n",
        "coeff=np.transpose(pca.components_[0:2, :])\n",
        "print('variancia explicada')\n",
        "print(pca.explained_variance_)"
      ],
      "execution_count": null,
      "outputs": [
        {
          "output_type": "stream",
          "text": [
            "variancia explicada\n",
            "[1.0216932  1.01327383 0.98788538 0.97794774]\n"
          ],
          "name": "stdout"
        }
      ]
    },
    {
      "cell_type": "code",
      "metadata": {
        "id": "Pkv1bTGrBhk8",
        "colab_type": "code",
        "colab": {
          "base_uri": "https://localhost:8080/",
          "height": 283
        },
        "outputId": "b3b919a1-47fd-4acf-ebe3-e3ebab043e6a"
      },
      "source": [
        "for i in range(Num):\n",
        "  #plt.arrow(0, 0, coeff[i,0], coeff[i,1],color = 'k',alpha = 1.0)\n",
        "  plt.arrow(0, 0, coeff[i,0], coeff[i,1],color = 'k',head_width=0.05,\n",
        "            head_length=0.1, fc='k', ec='k')\n",
        "  plt.text(coeff[i,0]* 1.4, coeff[i,1] * 1.4, Name[i], color = 'k', ha = 'center', va = 'center')\n",
        "\n",
        "plt.ylim(-1.5, 1.5)     # set the ylim to bottom, top\n",
        "plt.xlim(-1.5, 1.5)     # set the ylim to bottom, top\n",
        "plt.xlabel(\"PC{}\".format(1))\n",
        "plt.ylabel(\"PC{}\".format(2))\n",
        "plt.grid()\n",
        "\n",
        "plt.show()"
      ],
      "execution_count": null,
      "outputs": [
        {
          "output_type": "display_data",
          "data": {
            "image/png": "[encoded data removed]",
            "text/plain": [
              "<Figure size 432x288 with 1 Axes>"
            ]
          },
          "metadata": {
            "tags": [],
            "needs_background": "light"
          }
        }
      ]
    },
    {
      "cell_type": "code",
      "metadata": {
        "id": "wx2Ta-RIAoSs",
        "colab_type": "code",
        "colab": {
          "base_uri": "https://localhost:8080/",
          "height": 85
        },
        "outputId": "568b4c06-9a70-4e14-af58-c847b6834797"
      },
      "source": [
        "print(coeff)"
      ],
      "execution_count": null,
      "outputs": [
        {
          "output_type": "stream",
          "text": [
            "[[ 0.29139655 -0.69526269]\n",
            " [ 0.61307997  0.22964391]\n",
            " [-0.22683889 -0.6688067 ]\n",
            " [ 0.69840183 -0.12872861]]\n"
          ],
          "name": "stdout"
        }
      ]
    },
    {
      "cell_type": "code",
      "metadata": {
        "id": "vxBBHuCj2z8g",
        "colab_type": "code",
        "colab": {
          "base_uri": "https://localhost:8080/",
          "height": 153
        },
        "outputId": "26664a73-8c00-469b-8be9-cc6a49e5d9ae"
      },
      "source": [
        "n_samples = X.shape[0]\n",
        "\n",
        "pca = PCA()\n",
        "X_transformed = pca.fit_transform(X)\n",
        "\n",
        "# We center the data and compute the sample covariance matrix.\n",
        "X_centered = X - np.mean(X, axis=0)\n",
        "cov_matrix = np.dot(X_centered.T, X_centered) / n_samples\n",
        "eigenvalues = pca.explained_variance_\n",
        "for eigenvalue, eigenvector in zip(eigenvalues, pca.components_):    \n",
        "    print(np.dot(eigenvector.T, np.dot(cov_matrix, eigenvector)))\n",
        "    print(eigenvalue)"
      ],
      "execution_count": null,
      "outputs": [
        {
          "output_type": "stream",
          "text": [
            "1.0214888659922585\n",
            "1.0216932046331868\n",
            "1.0130711773368979\n",
            "1.0132738321033192\n",
            "0.9876878059449903\n",
            "0.9878853830215938\n",
            "0.9777521507258494\n",
            "0.9779477402739044\n"
          ],
          "name": "stdout"
        }
      ]
    },
    {
      "cell_type": "code",
      "metadata": {
        "id": "mpOHRIDOsUxx",
        "colab_type": "code",
        "colab": {
          "base_uri": "https://localhost:8080/",
          "height": 102
        },
        "outputId": "17fbd934-1f5e-4055-e60a-1f63b026a452"
      },
      "source": [
        "print(coeff)\n",
        "print(Name)"
      ],
      "execution_count": null,
      "outputs": [
        {
          "output_type": "stream",
          "text": [
            "[[ 0.29139655 -0.69526269]\n",
            " [ 0.61307997  0.22964391]\n",
            " [-0.22683889 -0.6688067 ]\n",
            " [ 0.69840183 -0.12872861]]\n",
            "['DIr', 'FRAC', 'Fo', 'CRo']\n"
          ],
          "name": "stdout"
        }
      ]
    },
    {
      "cell_type": "code",
      "metadata": {
        "id": "YsijyfWSF08S",
        "colab_type": "code",
        "colab": {
          "base_uri": "https://localhost:8080/",
          "height": 54
        },
        "outputId": "0f7c9d6c-9bad-477a-9909-cfa2bb1e497a"
      },
      "source": [
        "'''\n",
        "[[ 0.42355377  0.68684867]\n",
        " [-0.77495516  0.03123291]\n",
        " [-0.33564534  0.09131014]\n",
        " [-0.32770246  0.7203651 ]]\n",
        "\n",
        " [[-0.50239555 -0.32573271]\n",
        " [-0.39154572  0.6968612 ]\n",
        " [-0.59896066  0.28218831]\n",
        " [ 0.48532133  0.57328215]]\n",
        "\n",
        " \n",
        "['DIr', 'FRAC', 'Fo', 'CRo']\n",
        "'''"
      ],
      "execution_count": null,
      "outputs": [
        {
          "output_type": "execute_result",
          "data": {
            "text/plain": [
              "\"\\n[[ 0.42355377  0.68684867]\\n [-0.77495516  0.03123291]\\n [-0.33564534  0.09131014]\\n [-0.32770246  0.7203651 ]]\\n\\n [[-0.50239555 -0.32573271]\\n [-0.39154572  0.6968612 ]\\n [-0.59896066  0.28218831]\\n [ 0.48532133  0.57328215]]\\n\\n \\n['DIr', 'FRAC', 'Fo', 'CRo']\\n\""
            ]
          },
          "metadata": {
            "tags": []
          },
          "execution_count": 13
        }
      ]
    },
    {
      "cell_type": "code",
      "metadata": {
        "id": "tFj6-y7yh_UE",
        "colab_type": "code",
        "colab": {
          "base_uri": "https://localhost:8080/",
          "height": 306
        },
        "outputId": "9b27b0a3-dc69-4597-c0cc-0cfaa2b5eda5"
      },
      "source": [
        "!pip install pca"
      ],
      "execution_count": null,
      "outputs": [
        {
          "output_type": "stream",
          "text": [
            "Requirement already satisfied: pca in /usr/local/lib/python3.6/dist-packages (1.0.4)\n",
            "Requirement already satisfied: scipy in /usr/local/lib/python3.6/dist-packages (from pca) (1.4.1)\n",
            "Requirement already satisfied: numpy in /usr/local/lib/python3.6/dist-packages (from pca) (1.18.5)\n",
            "Requirement already satisfied: wget in /usr/local/lib/python3.6/dist-packages (from pca) (3.2)\n",
            "Requirement already satisfied: matplotlib in /usr/local/lib/python3.6/dist-packages (from pca) (3.2.1)\n",
            "Requirement already satisfied: colourmap in /usr/local/lib/python3.6/dist-packages (from pca) (0.1.1)\n",
            "Requirement already satisfied: pandas in /usr/local/lib/python3.6/dist-packages (from pca) (1.0.4)\n",
            "Requirement already satisfied: tqdm in /usr/local/lib/python3.6/dist-packages (from pca) (4.41.1)\n",
            "Requirement already satisfied: sklearn in /usr/local/lib/python3.6/dist-packages (from pca) (0.0)\n",
            "Requirement already satisfied: pyparsing!=2.0.4,!=2.1.2,!=2.1.6,>=2.0.1 in /usr/local/lib/python3.6/dist-packages (from matplotlib->pca) (2.4.7)\n",
            "Requirement already satisfied: python-dateutil>=2.1 in /usr/local/lib/python3.6/dist-packages (from matplotlib->pca) (2.8.1)\n",
            "Requirement already satisfied: cycler>=0.10 in /usr/local/lib/python3.6/dist-packages (from matplotlib->pca) (0.10.0)\n",
            "Requirement already satisfied: kiwisolver>=1.0.1 in /usr/local/lib/python3.6/dist-packages (from matplotlib->pca) (1.2.0)\n",
            "Requirement already satisfied: pytz>=2017.2 in /usr/local/lib/python3.6/dist-packages (from pandas->pca) (2018.9)\n",
            "Requirement already satisfied: scikit-learn in /usr/local/lib/python3.6/dist-packages (from sklearn->pca) (0.22.2.post1)\n",
            "Requirement already satisfied: six>=1.5 in /usr/local/lib/python3.6/dist-packages (from python-dateutil>=2.1->matplotlib->pca) (1.12.0)\n",
            "Requirement already satisfied: joblib>=0.11 in /usr/local/lib/python3.6/dist-packages (from scikit-learn->sklearn->pca) (0.15.1)\n"
          ],
          "name": "stdout"
        }
      ]
    },
    {
      "cell_type": "code",
      "metadata": {
        "id": "QRfttFHhhwH9",
        "colab_type": "code",
        "colab": {}
      },
      "source": [
        "from pca import pca"
      ],
      "execution_count": null,
      "outputs": []
    },
    {
      "cell_type": "code",
      "metadata": {
        "id": "SFckCLcQhn6B",
        "colab_type": "code",
        "colab": {}
      },
      "source": [
        "X=Parallel_Coord[['DIr','FRAC Its','Fo','CRo']]\n",
        "y=Parallel_Coord[['F']]"
      ],
      "execution_count": null,
      "outputs": []
    },
    {
      "cell_type": "code",
      "metadata": {
        "id": "RejelTpphOXh",
        "colab_type": "code",
        "colab": {
          "base_uri": "https://localhost:8080/",
          "height": 626
        },
        "outputId": "34a5913c-9e2c-496f-d479-9e3170170d40"
      },
      "source": [
        "# Initialize to reduce the data up to the number of componentes that explains 95% of the variance.\n",
        "model = pca(n_components=0.95)\n",
        "\n",
        "# Or reduce the data towards 2 PCs\n",
        "model = pca(n_components=2)\n",
        "\n",
        "# Fit transform\n",
        "results = model.fit_transform(X)\n",
        "\n",
        "# Plot explained variance\n",
        "fig, ax = model.plot()"
      ],
      "execution_count": null,
      "outputs": [
        {
          "output_type": "stream",
          "text": [
            "[pca] >The PCA reduction is performed on the [4] columns of the input dataframe.\n",
            "[pca] >Processing dataframe..\n",
            "[pca] >Fitting using PCA..\n",
            "[pca] >Computing loadings and PCs..\n",
            "[pca] >Computing explained variance..\n"
          ],
          "name": "stdout"
        },
        {
          "output_type": "display_data",
          "data": {
            "image/png": "[encoded data removed]",
            "text/plain": [
              "<Figure size 720x576 with 1 Axes>"
            ]
          },
          "metadata": {
            "tags": [],
            "needs_background": "light"
          }
        },
        {
          "output_type": "display_data",
          "data": {
            "text/plain": [
              "<Figure size 432x288 with 0 Axes>"
            ]
          },
          "metadata": {
            "tags": []
          }
        }
      ]
    },
    {
      "cell_type": "code",
      "metadata": {
        "id": "UxXtALSAg0zH",
        "colab_type": "code",
        "colab": {}
      },
      "source": [
        "# Scatter first 2 PCs\n",
        "# fig, ax = model.scatter()\n",
        "\n"
      ],
      "execution_count": null,
      "outputs": []
    },
    {
      "cell_type": "code",
      "metadata": {
        "id": "OZKZn_gyijnl",
        "colab_type": "code",
        "colab": {}
      },
      "source": [
        "# Make biplot with the number of features\n",
        "# fig, ax = model.biplot(n_feat=4)"
      ],
      "execution_count": null,
      "outputs": []
    },
    {
      "cell_type": "code",
      "metadata": {
        "id": "jpEJhWC6jR7g",
        "colab_type": "code",
        "colab": {}
      },
      "source": [
        "#model = pca(n_components=3)\n",
        "#results = model.fit_transform(X)\n",
        "#fig, ax= model.scatter3d()\n"
      ],
      "execution_count": null,
      "outputs": []
    },
    {
      "cell_type": "code",
      "metadata": {
        "id": "7Y49doWVj-LR",
        "colab_type": "code",
        "colab": {}
      },
      "source": [
        "#fig, ax = model.biplot3d(n_feat=4)"
      ],
      "execution_count": null,
      "outputs": []
    },
    {
      "cell_type": "code",
      "metadata": {
        "id": "10iEVc7pl2Oh",
        "colab_type": "code",
        "colab": {
          "base_uri": "https://localhost:8080/",
          "height": 34
        },
        "outputId": "1873f05b-3003-47bc-e516-df1d239dfc4a"
      },
      "source": [
        "fig = plt.figure()"
      ],
      "execution_count": null,
      "outputs": [
        {
          "output_type": "display_data",
          "data": {
            "text/plain": [
              "<Figure size 432x288 with 0 Axes>"
            ]
          },
          "metadata": {
            "tags": []
          }
        }
      ]
    }
  ]
}